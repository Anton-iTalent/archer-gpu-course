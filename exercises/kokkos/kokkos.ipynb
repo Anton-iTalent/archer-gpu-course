{
 "cells": [
  {
   "cell_type": "markdown",
   "metadata": {},
   "source": [
    "# Introduction to Kokkos\n",
    "\n",
    "This lab will introduce the Kokkos framework for portable performance using both OpenMP and CUDA\n",
    "as a backend.\n",
    "\n",
    "The examples follow the first few of a longer sequence of tutorial examples appearing in the SANDIA Kokkos tutorial found at \n",
    "https://github.com/kokkos/kokkos-tutorials\n",
    "\n",
    "The full Kokkos programming guide can be found at https://github.com/kokkos/kokkos/wiki\n",
    "\n",
    "Instructions are provided below (and within the templates) to allow you to complete each of the exercises."
   ]
  },
  {
   "cell_type": "markdown",
   "metadata": {},
   "source": [
    "# (1) Initialise, Use, Finalise\n",
    "\n",
    "The first exercise asks you to initialise and finalise Kokkos, and use the patterns `parallel_for` and `parallel_reduce` in the computation of an inner product.\n",
    "\n",
    "The corresponding template source code is in subdirectory `1`; ie., `1/exercise_1_begin.cpp`. Use the notebook navigation to open this file in the editor. The places where you need to change things are marked with \"EXERCISE\".\n",
    "\n",
    "You will need to recall the patterns:\n",
    "```cpp\n",
    "  Kokkos::parallel_for(N, KOKKOS_LAMBDA (int i) {\n",
    "    //... loop body with index i of extent N\n",
    "  });\n",
    "```\n",
    "where the macro `KOKKOS_LAMBDA` is representing the capture. The `parallel_reduce` pattern is of the form\n",
    "```cpp\n",
    "  Kokkos::parallel_reduce(M, KOKKOS_LAMBDA (int j, double & sum) {\n",
    "    // sum += ...loop body with index j of extent M\n",
    "  }, result);\n",
    "```\n",
    "where `result` is a variable defined in the outer scope to hold the result. The `sum` variable is managed by Kokkos.\n",
    "\n",
    "\n",
    "You can compile the code using the OpenMP backend with the below cell."
   ]
  },
  {
   "cell_type": "code",
   "execution_count": null,
   "metadata": {},
   "outputs": [],
   "source": [
    "! cd 1; make OpenMP; cd .."
   ]
  },
  {
   "cell_type": "markdown",
   "metadata": {},
   "source": [
    "When you run you can set the problem size with command line flags. These are passed as a power of 2 (e.g. `10 => 2**10 = 1024`).\n",
    "* `-N` - the number of rows (default = 12)\n",
    "* `-M` - the number of columns (default = 10)\n",
    "* `-S` - the total size (default = 22, must equal sum of M and N)\n",
    "\n",
    "Can also specify the number of repeats:\n",
    "* `-nrepeat` (default = 100)\n",
    "\n",
    "When using OpenMP, specify the number of threads to use by setting the `OMP_NUM_THREADS` environment variable."
   ]
  },
  {
   "cell_type": "code",
   "execution_count": null,
   "metadata": {},
   "outputs": [],
   "source": [
    "! cd 1; env OMP_NUM_THREADS=1 OMP_PROC_BIND=spread OMP_PLACES=threads ./01_Exercise.OpenMP -N 12; cd .."
   ]
  },
  {
   "cell_type": "markdown",
   "metadata": {},
   "source": [
    "# (2) Use Views\n",
    "\n",
    "The goal of this exercise will be to replace the raw memory allocations with Kokkos Views, and corrresponding memory accesses\n",
    "with the relevant Kokkos view access.\n",
    "\n",
    "The source code is found in `2/exercise_2_begin.cpp`.\n",
    "Again, code requiring attention is marked with 'EXERCISE'.\n",
    "\n",
    "Recall that a View may be declared via, e.g.,\n",
    "```cpp\n",
    "Kokkos::View < double * > x(\"my vector\", nElements);\n",
    "```\n",
    "and access to individual elements is via brackets, e.g.,\n",
    "```cpp\n",
    "x(index) = ...\n",
    "```\n",
    "\n",
    "Note we force Kokkos use to UVM for the CUDA build."
   ]
  },
  {
   "cell_type": "code",
   "execution_count": null,
   "metadata": {},
   "outputs": [],
   "source": [
    "# Execute this cell to compile the code\n",
    "! cd 2; make; cd .."
   ]
  },
  {
   "cell_type": "code",
   "execution_count": null,
   "metadata": {},
   "outputs": [],
   "source": [
    "# Execute this cell to run the code on the CPU with OpenMP\n",
    "# You can vary the number of threads used with OMP_NUM_THREADS (note this machine has 4 cores)\n",
    "! cd 2; env OMP_NUM_THREADS=4 OMP_PROC_BIND=spread OMP_PLACES=threads ./02_Exercise.OpenMP -S 26; cd .."
   ]
  },
  {
   "cell_type": "code",
   "execution_count": null,
   "metadata": {},
   "outputs": [],
   "source": [
    "# Execute this cell to run the code on the GPU with Cuda + UVM\n",
    "! cd 2; env CUDA_LAUNCH_BLOCKING=1 CUDA_VISIBLE_DEVICES=0 ./02_Exercise.CudaUVM ; cd .."
   ]
  },
  {
   "cell_type": "code",
   "execution_count": null,
   "metadata": {},
   "outputs": [],
   "source": [
    "import sys\n",
    "sys.version\n",
    "sys.path"
   ]
  },
  {
   "cell_type": "code",
   "execution_count": null,
   "metadata": {},
   "outputs": [],
   "source": [
    "from matplotlib import pylab as plt\n",
    "import numpy as np\n",
    "%matplotlib inline"
   ]
  },
  {
   "cell_type": "code",
   "execution_count": null,
   "metadata": {},
   "outputs": [],
   "source": [
    "# Add results and run this cell to view a plot\n",
    "\n",
    "# Example data - replace with your measurements!\n",
    "# GPU/CPU, S, N, bandwidth/(GB/s)\n",
    "data = [('gpu',26, 16, 14.3),\n",
    "        ('cpu',26, 16, 56.9)]\n",
    "\n",
    "def plot():\n",
    "    d = np.array(data,\n",
    "                 dtype=[('type', object), ('log2size', int), ('log2rows', int), ('bandwidth', float)])\n",
    "    cpu = d[np.where(d['type']=='cpu')]; gpu = d[np.where(d['type']=='gpu')]\n",
    "    \n",
    "    ax = plt.gca()\n",
    "    ax.semilogx()\n",
    "    ax.set_ylim(bottom=0.0, top=d['bandwidth'].max())\n",
    "\n",
    "    ax.plot(2**cpu['log2rows'], cpu['bandwidth'], 'bx',\n",
    "            2**gpu['log2rows'], gpu['bandwidth'], 'rx')\n",
    "plot()"
   ]
  },
  {
   "cell_type": "markdown",
   "metadata": {},
   "source": [
    "# (3) Use Mirror Views\n",
    "\n",
    "Now, we will replace use of managed GPU memory with explicit\n",
    "data management via Kokkos mirror views and and copies.\n",
    "\n",
    "The exercise template is `3/exercise_3_begin.cpp`\n",
    "\n",
    "Recall the copy is\n",
    "```cpp\n",
    "Kokkos::deep_copy(dest, src);\n",
    "```\n",
    "for the required direction of transfer."
   ]
  },
  {
   "cell_type": "code",
   "execution_count": null,
   "metadata": {},
   "outputs": [],
   "source": [
    "# Execute this cell to compile the code\n",
    "! cd 3; make; cd .."
   ]
  },
  {
   "cell_type": "code",
   "execution_count": null,
   "metadata": {},
   "outputs": [],
   "source": [
    "# Execute this cell to run the code on the CPU with OpenMP\n",
    "! cd 3; env OMP_NUM_THREADS=1 OMP_PROC_BIND=spread OMP_PLACES=threads ./03_Exercise.OpenMP ; cd .."
   ]
  },
  {
   "cell_type": "code",
   "execution_count": null,
   "metadata": {},
   "outputs": [],
   "source": [
    "# Execute this cell to run the code on the GPU\n",
    "! cd 3; ./03_Exercise.Cuda ; cd .."
   ]
  },
  {
   "cell_type": "code",
   "execution_count": null,
   "metadata": {},
   "outputs": [],
   "source": [
    "# Add results and run this cell to view a plot\n",
    "\n",
    "# Example data - replace with your measurements!\n",
    "# GPU/CPU, S, N, bandwidth/(GB/s)\n",
    "data = [('gpu',26, 16, 14.3),\n",
    "        ('cpu',26, 16, 56.9)]\n",
    "\n",
    "def plot():\n",
    "    d = np.array(data,\n",
    "                 dtype=[('type', object), ('size', int), ('rows', int), ('bandwidth', float)])\n",
    "    d['size'] = 2**d['size']\n",
    "    d['rows'] = 2**d['rows']\n",
    "\n",
    "    cpu = d[np.where(d['type']=='cpu')]; gpu = d[np.where(d['type']=='gpu')]\n",
    "    \n",
    "    ax = plt.gca()\n",
    "    ax.semilogx()\n",
    "    ax.set_ylim(bottom=0.0, top=d['bandwidth'].max())\n",
    "\n",
    "    ax.plot(cpu['rows'], cpu['bandwidth'], 'bx',\n",
    "            gpu['rows'], gpu['bandwidth'], 'rx')\n",
    "plot()"
   ]
  },
  {
   "cell_type": "markdown",
   "metadata": {},
   "source": [
    "# (4) Control the Layout\n",
    "\n",
    "The final exercise provides some wide-ranging options to investigate memory layouts. memory and execution spaces; using a\n",
    "Kokkos RangePolicy to parallelise the inner loop.\n",
    "\n",
    "The template is `4/exercise_4_begin.cpp` contains further instructions and hints.\n"
   ]
  },
  {
   "cell_type": "code",
   "execution_count": null,
   "metadata": {},
   "outputs": [],
   "source": [
    "# Execute this cell to compile the code\n",
    "! cd 4; make; cd .."
   ]
  },
  {
   "cell_type": "code",
   "execution_count": null,
   "metadata": {},
   "outputs": [],
   "source": [
    "# Execute this cell to run the code\n",
    "# You may wish to vary OMP_NUM_THREADS when running on the CPU\n",
    "! cd 4; env OMP_NUM_THREADS=4 OMP_PROC_BIND=spread OMP_PLACES=threads ./04_Exercise.Any ; cd .."
   ]
  },
  {
   "cell_type": "code",
   "execution_count": null,
   "metadata": {},
   "outputs": [],
   "source": [
    "# Add results and run this cell to view a plot\n",
    "\n",
    "# Example data - replace with your measurements!\n",
    "# GPU/CPU, Layout, S, N, bandwidth/(GB/s)\n",
    "data = [('gpu', 'left', 26, 16, 14.3),\n",
    "        ('cpu', 'right', 26, 16, 56.9)]\n",
    "\n",
    "def plot():\n",
    "    d = np.array(data,\n",
    "                 dtype=[('type', object), ('layout', object), ('size', int), ('rows', int), ('bandwidth', float)])\n",
    "    d['size'] = 2**d['size']\n",
    "    d['rows'] = 2**d['rows']\n",
    "    \n",
    "    cpu_left = d[np.where(np.logical_and(d['type']=='cpu',d['layout']=='left'))]\n",
    "    cpu_right = d[np.where(np.logical_and(d['type']=='cpu',d['layout']=='right'))]\n",
    "    gpu_left = d[np.where(np.logical_and(d['type']=='gpu',d['layout']=='left'))]\n",
    "    gpu_right = d[np.where(np.logical_and(d['type']=='gpu',d['layout']=='right'))]\n",
    "    \n",
    "    ax = plt.gca()\n",
    "    ax.semilogx()\n",
    "    ax.set_ylim(bottom=0.0, top=d['bandwidth'].max())\n",
    "\n",
    "    ax.plot(cpu_left['rows'], cpu_left['bandwidth'], 'bx',\n",
    "            gpu_left['rows'], gpu_left['bandwidth'], 'rx',\n",
    "            cpu_right['rows'], cpu_right['bandwidth'], 'bo',\n",
    "            gpu_right['rows'], gpu_right['bandwidth'], 'ro')\n",
    "plot()"
   ]
  }
 ],
 "metadata": {
  "kernelspec": {
   "display_name": "Python [default]",
   "language": "python",
   "name": "python2"
  },
  "language_info": {
   "codemirror_mode": {
    "name": "ipython",
    "version": 2
   },
   "file_extension": ".py",
   "mimetype": "text/x-python",
   "name": "python",
   "nbconvert_exporter": "python",
   "pygments_lexer": "ipython2",
   "version": "2.7.15"
  }
 },
 "nbformat": 4,
 "nbformat_minor": 1
}
