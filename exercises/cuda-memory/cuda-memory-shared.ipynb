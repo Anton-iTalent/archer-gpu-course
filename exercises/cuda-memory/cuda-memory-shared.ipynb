{
 "cells": [
  {
   "cell_type": "markdown",
   "metadata": {},
   "source": [
    "# Using constant and shared memory\n",
    "\n",
    "Here we will look at some simple operations using CUDA constant memory and shared memory. A working program (in both C and Fortran) is supplied which uses a kernel to reverse the elements stored in an array. The exercise will make some changes to this program.\n",
    "\n",
    "Lab created by EPCC, The University of Edinburgh. Documentation and source code copyright The University of Edinburgh 2016. Lab style and template created by NVIDIA, see https://nvidia.qwiklab.com/."
   ]
  },
  {
   "cell_type": "markdown",
   "metadata": {},
   "source": [
    "---\n",
    "First, please try and execute the below command. Give focus to the cell by clicking on it, and then either press the play button above or press your Enter key whilst holding down Shift."
   ]
  },
  {
   "cell_type": "code",
   "execution_count": 7,
   "metadata": {},
   "outputs": [],
   "source": [
    "!echo \"This command is running on host $HOSTNAME\""
   ]
  },
  {
   "cell_type": "markdown",
   "metadata": {},
   "source": [
    "## Introduction\n",
    "\n",
    "You will need another notebook tab or window to edit the source file(s) associated with this exercise.\n",
    "\n",
    "Where necessary, you should refer to the CUDA C Programming Guide and Reference Manual documents available from\n",
    "http://developer.nvidia.com/nvidia-gpu-computing-documentation\n",
    " \n"
   ]
  },
  {
   "cell_type": "markdown",
   "metadata": {},
   "source": [
    "## 1) Using constant memory\n",
    "\n",
    "Have a look at the code to see what it does. The kernel <code>reverse()</code> takes the elements of an array $a_1, a_2, a_3, \\ldots$ and reverses their order so that the output appears $\\ldots, a_3, a_2, a_1$. You should see that the size of the array involved in the reverse operation is set at compile time. (This is done in different ways in C and Fortran.)\n",
    "\n",
    "Choose the C or Fortran version by executing the corresponding cell below:\n"
   ]
  },
  {
   "cell_type": "markdown",
   "metadata": {},
   "source": [
    "### C:\n"
   ]
  },
  {
   "cell_type": "code",
   "execution_count": 9,
   "metadata": {},
   "outputs": [],
   "source": [
    "# set up a link to the C version of the templates\n",
    "!rm -rf src; ln -s src_c src; echo \"Using C version\""
   ]
  },
  {
   "cell_type": "markdown",
   "metadata": {},
   "source": [
    "### Fortran:\n"
   ]
  },
  {
   "cell_type": "code",
   "execution_count": 15,
   "metadata": {},
   "outputs": [],
   "source": [
    "# set up a link to the Fortran version of the templates\n",
    "!rm -rf src; ln -s src_fortran src; echo \"Using Fortran version\""
   ]
  },
  {
   "cell_type": "markdown",
   "metadata": {},
   "source": [
    "\n",
    "### C:\n",
    "\n",
    "Suppose we want to set the size of the array at run time. If this were the case, it might be appropriate to replace the <code>ARRAY_SIZE</code> definition in the kernel with a variable declared in constant memory. (One could also pass the size as an actual argument of the kernel routine.)\n",
    "\n",
    "As an exercise, replace the <code>ARRAY_SIZE</code> definition with a variable with a <code> \\__constant__</code> declaration. Keep the same value of the array size to start with, and remember to initialise the value before the kernel invocation. Check the program still reports the correct answer using the cells below.\n",
    "\n"
   ]
  },
  {
   "cell_type": "markdown",
   "metadata": {},
   "source": [
    "\n",
    "### Fortran:\n",
    "\n",
    "Suppose we want to set the array size at run time, instead of using the <code>parameter</code> definition in the main program (and removing the actual argument to the kernel routine). It would be appropriate to do this using a variable declared with the <code>constant</code> attribute. Where should this variable be declared so that is available in both the kernel and the main program?\n",
    "\n",
    "Assign the appropriate value before the kernel is invoked. Check the program still reports the correct answer.\n"
   ]
  },
  {
   "cell_type": "code",
   "execution_count": 18,
   "metadata": {},
   "outputs": [],
   "source": [
    "# Execute this cell to compile the code.\n",
    "# Wait until \"Complete\" is printed in the output. \n",
    "! cd src; make clean; make; cd ..; echo \"Complete\""
   ]
  },
  {
   "cell_type": "code",
   "execution_count": 12,
   "metadata": {},
   "outputs": [],
   "source": [
    "# Execute this cell to run the code.\n",
    "# Wait until \"Complete\" is printed in the output.\n",
    "! cd src; ./reverse; cd ..; echo \"Complete\" "
   ]
  },
  {
   "cell_type": "markdown",
   "metadata": {},
   "source": [
    "\n",
    "\n",
    "## 2) Using Shared Memory\n",
    "\n",
    "### C and Fortran:\n",
    "\n",
    "We will now use CUDA shared memory to produce a new version of the <code>reverse()</code> where each block uses a temporary variable to store a its contributions to the output array. While this is not strictly necessary, it provides some practice without introducing too much complexity.\n",
    "\n",
    "1) In the kernel, declare an array of the right length that each thread in a block can store one value of the integer data type in shared memory.\n",
    "\n",
    "2) _Within each block_, store the relevant elements of the input array in the temporary array, but with order reversed.\n",
    "\n",
    "3) Copy the reversed elements from the temporary array to the output array. You will have to compute the correct offset for each block in the global problem size to do this.\n",
    "\n",
    "4) Recompile the code, and check it still reports the correct answer."
   ]
  },
  {
   "cell_type": "markdown",
   "metadata": {},
   "source": [
    "\n",
    "### Keeping a copy of your work\n",
    "\n",
    "The course materials and the exercise templates are available via the course repoistory (which includes solutions).\n",
    "\n",
    "If you wish to keep a copy of your particular solution, please use the `File->Download` option from the notebook editor to obtain a copy."
   ]
  },
  {
   "cell_type": "markdown",
   "metadata": {},
   "source": [
    "<style>\n",
    "p.hint_trigger{\n",
    "  margin-bottom:7px;\n",
    "  margin-top:-5px;\n",
    "  background:#64E84D;\n",
    "}\n",
    ".toggle_container{\n",
    "  margin-bottom:0px;\n",
    "}\n",
    ".toggle_container p{\n",
    "  margin:2px;\n",
    "}\n",
    ".toggle_container{\n",
    "  background:#f0f0f0;\n",
    "  clear: both;\n",
    "  font-size:100%;\n",
    "}\n",
    "</style>\n",
    "<script>\n",
    "$(\"p.hint_trigger\").click(function(){\n",
    "   $(this).toggleClass(\"active\").next().slideToggle(\"normal\");\n",
    "});\n",
    "   \n",
    "$(\".toggle_container\").hide();\n",
    "</script>"
   ]
  }
 ],
 "metadata": {
  "kernelspec": {
   "display_name": "Python [default]",
   "language": "python",
   "name": "python2"
  },
  "language_info": {
   "codemirror_mode": {
    "name": "ipython",
    "version": 2
   },
   "file_extension": ".py",
   "mimetype": "text/x-python",
   "name": "python",
   "nbconvert_exporter": "python",
   "pygments_lexer": "ipython2",
   "version": "2.7.15"
  }
 },
 "nbformat": 4,
 "nbformat_minor": 1
}
