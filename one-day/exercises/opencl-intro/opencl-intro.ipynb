{
 "cells": [
  {
   "cell_type": "markdown",
   "metadata": {},
   "source": [
    "# OpenCL Exercise\n",
    "\n",
    "In this exercise, we will look at OpenCL which is relavant for C programmers. There is no Fortran equivalent.\n",
    "\n",
    "Lab created by EPCC, The University of Edinburgh. Documentation and source code copyright The University of Edinburgh 2017. Lab style and template created by NVIDIA, see https://nvidia.qwiklab.com/."
   ]
  },
  {
   "cell_type": "markdown",
   "metadata": {},
   "source": [
    "---\n",
    "First, please try and execute the below command. Give focus to the cell by clicking on it, and then either press the play button above or press your Enter key whilst holding down Shift."
   ]
  },
  {
   "cell_type": "code",
   "execution_count": null,
   "metadata": {
    "collapsed": true
   },
   "outputs": [],
   "source": [
    "!echo \"This command is running on host $HOSTNAME\""
   ]
  },
  {
   "cell_type": "markdown",
   "metadata": {},
   "source": [
    "## Introduction\n",
    "\n",
    "Navigate to find the template source code in <code>opencl_intro/intro.c</code>.\n",
    "There should be an accompanying kernel template <code>kernel.c</code>.\n",
    "You will need to do this in a separate tab or window.\n",
    "\n",
    "The template source file is marked with the sections to be edited, e.g.\n",
    "<code>\n",
    "/\\* Part 1A: allocate device memory \\*/\n",
    "</code>\n",
    "\n",
    "Please read on for instructions. Where necessary, it may be helpful to refer to the\n",
    "OpenCL reference guide\n",
    "https://www.khronos.org/files/opencl22-reference-guide.pdf\n"
   ]
  },
  {
   "cell_type": "markdown",
   "metadata": {},
   "source": [
    "## 1) Copying Between Host and Device\n",
    "\n",
    "The exercise is a repeat of the CUDA example in which an array of intergers is multiplied by a constant (-1). This should allow you\n",
    "to contrast the two approaches: OpenCL and CUDA.\n",
    "\n",
    "In the OpenCL template <code>intro.c</code>, some of the platform and device management has been provided so that you should be able to concentrate on device memory allocation,\n",
    "transfer between host and device, and the kernel itself.\n",
    "\n"
   ]
  },
  {
   "cell_type": "markdown",
   "metadata": {},
   "source": [
    "\n",
    "\n",
    "Starting from the <code>intro.c</code> template:\n",
    "\n",
    "<li> 1A) Allocate memory for the array on the device using <code>clCreateBuffer()</code>. The appropriate device reference is <code>d_a</code> (check its declaration). You will need to identify the OpenCL context and the size of allocation (<code>sz</code>). Check the OpenCL reference card for the arguments to <code>clBufferCreate()</code> if unsure.\n",
    "<li> 1B) Copy the array <code>h_a</code> on the host to <code>d_a</code> on the device. The OpenCL command queue is varaible <code>queue</code>.\n",
    "<li> 1C) Copy <code>d_a</code> on the device back to <code>h_out</code> on the host.\n",
    "<li> 1D) Release the device memory <code>d_a</code>.\n",
    "\n",
    "Execute the 2 cells below to compile and run the code. Note here we are using <code>nvcc</code> to compile and OpenCL program. We must also specify that the executable is linked against the OpenCL library via <code>-lOpenCL</code> on this system.\n"
   ]
  },
  {
   "cell_type": "code",
   "execution_count": null,
   "metadata": {
    "collapsed": true
   },
   "outputs": [],
   "source": [
    "# Execute this cell to compile the code.\n",
    "# Wait until \"Complete\" is printed in the output. \n",
    "! make clean; make; echo \"Complete\""
   ]
  },
  {
   "cell_type": "code",
   "execution_count": null,
   "metadata": {
    "collapsed": true
   },
   "outputs": [],
   "source": [
    "# Execute this cell to run the code.\n",
    "# Wait until \"Complete\" is printed in the output.\n",
    "! ./intro; echo \"Complete\" "
   ]
  },
  {
   "cell_type": "markdown",
   "metadata": {},
   "source": [
    "\n",
    "------\n",
    "The output (the contents of the <code>h_out</code> array) or any error messages will be printed. So far the code simply copies from <code>h_a</code> on the host to <code>d_a</code> on the device, and then copies <code>d_a</code> back to <code>h_out</code>, so the output should be the initial content of <code>h_a</code>, that is, the numbers 0 to 255."
   ]
  },
  {
   "cell_type": "markdown",
   "metadata": {},
   "source": [
    "2) Executing the Kernel\n",
    "\n",
    "\n",
    "Now we will extend the <code>intro.c</code> file to run the kernel.\n",
    "\n",
    "<li> 2A) Configure the global number of work items and the local\n",
    "number of work items for this problem. Note that the number of items per work group has been assigned as a constant to <code>THREADS_PER_WORK_GROUP</code>. You will need to declare the kernel argument, and execute it with the appropriate OpenCL calls.\n",
    "\n",
    "<li> 2B) Look at kernel template <code>kernel.c</code>. Implement the computation required (multiply each element of the array by -1) using the OpenCL function <code>get_global_id()</code>\n",
    "\n",
    "\n",
    "<li> Compile and run the code by executing the above cells as before. This time the output should contain the result of negating each element of the input array. Because the array is initialised to the numbers 0 to 255, you should see the numbers 0 to -255 printed.\n"
   ]
  },
  {
   "cell_type": "markdown",
   "metadata": {},
   "source": [
    "### Additional tasks\n",
    "\n",
    "<li> (If you haven't found out yet.) What happens if you introduce a programming (compilation) error into the kernel code? Where is the error message coming from?\n",
    "\n",
    "<li> Look through the rest of the template <code>intro.c</code> to see what is required to initise OpenCL and read in the kernel. "
   ]
  },
  {
   "cell_type": "markdown",
   "metadata": {},
   "source": [
    "### Keeping a copy of your work\n",
    "\n",
    "The templates for the exercise and a solution are provided in the course repository.\n",
    "\n",
    "If you wish to keep a copy of your particular soultion, please use the `File->Download` option from the notebook editor tab to obtain a copy of the relevant files.\n"
   ]
  },
  {
   "cell_type": "markdown",
   "metadata": {},
   "source": [
    "<style>\n",
    "p.hint_trigger{\n",
    "  margin-bottom:7px;\n",
    "  margin-top:-5px;\n",
    "  background:#64E84D;\n",
    "}\n",
    ".toggle_container{\n",
    "  margin-bottom:0px;\n",
    "}\n",
    ".toggle_container p{\n",
    "  margin:2px;\n",
    "}\n",
    ".toggle_container{\n",
    "  background:#f0f0f0;\n",
    "  clear: both;\n",
    "  font-size:100%;\n",
    "}\n",
    "</style>\n",
    "<script>\n",
    "$(\"p.hint_trigger\").click(function(){\n",
    "   $(this).toggleClass(\"active\").next().slideToggle(\"normal\");\n",
    "});\n",
    "   \n",
    "$(\".toggle_container\").hide();\n",
    "</script>"
   ]
  }
 ],
 "metadata": {
  "kernelspec": {
   "display_name": "Python [default]",
   "language": "python",
   "name": "python2"
  },
  "language_info": {
   "codemirror_mode": {
    "name": "ipython",
    "version": 2
   },
   "file_extension": ".py",
   "mimetype": "text/x-python",
   "name": "python",
   "nbconvert_exporter": "python",
   "pygments_lexer": "ipython2",
   "version": "2.7.15"
  }
 },
 "nbformat": 4,
 "nbformat_minor": 1
}
